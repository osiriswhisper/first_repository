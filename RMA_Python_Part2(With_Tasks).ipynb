{
  "nbformat": 4,
  "nbformat_minor": 0,
  "metadata": {
    "colab": {
      "provenance": [],
      "include_colab_link": true
    },
    "kernelspec": {
      "name": "python3",
      "display_name": "Python 3"
    },
    "language_info": {
      "name": "python"
    }
  },
  "cells": [
    {
      "cell_type": "markdown",
      "metadata": {
        "id": "view-in-github",
        "colab_type": "text"
      },
      "source": [
        "<a href=\"https://colab.research.google.com/github/osiriswhisper/first_repository/blob/main/RMA_Python_Part2(With_Tasks).ipynb\" target=\"_parent\"><img src=\"https://colab.research.google.com/assets/colab-badge.svg\" alt=\"Open In Colab\"/></a>"
      ]
    },
    {
      "cell_type": "markdown",
      "source": [
        "**String Operations**"
      ],
      "metadata": {
        "id": "7BUaPMiUpwru"
      }
    },
    {
      "cell_type": "code",
      "source": [
        "str1 = \"ajke\"\n",
        "str2 = \"ct\"\n",
        "str3 = \"chilo\""
      ],
      "metadata": {
        "id": "Lq0-zpWgpymj"
      },
      "execution_count": null,
      "outputs": []
    },
    {
      "cell_type": "code",
      "source": [
        "bakko = str1 + ' ' + str2 + ' ' + str3\n",
        "print(bakko)"
      ],
      "metadata": {
        "colab": {
          "base_uri": "https://localhost:8080/"
        },
        "id": "INw69jGSp__U",
        "outputId": "058adb96-e45a-4241-bea6-c5958c95b841"
      },
      "execution_count": null,
      "outputs": [
        {
          "output_type": "stream",
          "name": "stdout",
          "text": [
            "ajke ct chilo\n"
          ]
        }
      ]
    },
    {
      "cell_type": "code",
      "source": [
        "hashi = 'hi'\n",
        "\n",
        "tinbarhasbo = hashi * 3\n",
        "tinbarhasbo"
      ],
      "metadata": {
        "colab": {
          "base_uri": "https://localhost:8080/",
          "height": 36
        },
        "id": "T2eRb_2jqRci",
        "outputId": "d5eb24ef-4358-46a7-e16e-57500ca4b186"
      },
      "execution_count": null,
      "outputs": [
        {
          "output_type": "execute_result",
          "data": {
            "text/plain": [
              "'hihihi'"
            ],
            "application/vnd.google.colaboratory.intrinsic+json": {
              "type": "string"
            }
          },
          "metadata": {},
          "execution_count": 7
        }
      ]
    },
    {
      "cell_type": "markdown",
      "source": [
        "indexing and accessing"
      ],
      "metadata": {
        "id": "5VpYBmnItU_R"
      }
    },
    {
      "cell_type": "code",
      "source": [
        "str4 = 'school'\n",
        "str4[0]"
      ],
      "metadata": {
        "colab": {
          "base_uri": "https://localhost:8080/",
          "height": 36
        },
        "id": "VSg1GFSbqqlL",
        "outputId": "ccbdf1d7-f474-4052-a553-1f56d4e195a5"
      },
      "execution_count": null,
      "outputs": [
        {
          "output_type": "execute_result",
          "data": {
            "text/plain": [
              "'s'"
            ],
            "application/vnd.google.colaboratory.intrinsic+json": {
              "type": "string"
            }
          },
          "metadata": {},
          "execution_count": 8
        }
      ]
    },
    {
      "cell_type": "code",
      "source": [
        "str4[-1]"
      ],
      "metadata": {
        "colab": {
          "base_uri": "https://localhost:8080/",
          "height": 36
        },
        "id": "d9PwfnU5rGNK",
        "outputId": "c089a7c5-d68b-431c-c268-285ef7b87d91"
      },
      "execution_count": null,
      "outputs": [
        {
          "output_type": "execute_result",
          "data": {
            "text/plain": [
              "'l'"
            ],
            "application/vnd.google.colaboratory.intrinsic+json": {
              "type": "string"
            }
          },
          "metadata": {},
          "execution_count": 9
        }
      ]
    },
    {
      "cell_type": "code",
      "source": [
        "dept = 'electronics and telecommunication'\n",
        "\n",
        "dept[0:11]"
      ],
      "metadata": {
        "colab": {
          "base_uri": "https://localhost:8080/",
          "height": 36
        },
        "id": "DTHIJ812rMdK",
        "outputId": "dc8b5ec2-c421-4825-973a-e78c932714bf"
      },
      "execution_count": null,
      "outputs": [
        {
          "output_type": "execute_result",
          "data": {
            "text/plain": [
              "'electronics'"
            ],
            "application/vnd.google.colaboratory.intrinsic+json": {
              "type": "string"
            }
          },
          "metadata": {},
          "execution_count": 10
        }
      ]
    },
    {
      "cell_type": "code",
      "source": [
        "dept[12:]"
      ],
      "metadata": {
        "colab": {
          "base_uri": "https://localhost:8080/",
          "height": 36
        },
        "id": "xp4yNbjxrygC",
        "outputId": "653bc611-176b-4af9-ad88-407d25e1f570"
      },
      "execution_count": null,
      "outputs": [
        {
          "output_type": "execute_result",
          "data": {
            "text/plain": [
              "'and telecommunication'"
            ],
            "application/vnd.google.colaboratory.intrinsic+json": {
              "type": "string"
            }
          },
          "metadata": {},
          "execution_count": 11
        }
      ]
    },
    {
      "cell_type": "code",
      "source": [
        "dept1 = 'electronics'\n",
        "dept1[::2]"
      ],
      "metadata": {
        "colab": {
          "base_uri": "https://localhost:8080/",
          "height": 36
        },
        "id": "-kVPdUl9sEcr",
        "outputId": "7771f611-c286-48f7-8ef5-c4aec8ea4be9"
      },
      "execution_count": null,
      "outputs": [
        {
          "output_type": "execute_result",
          "data": {
            "text/plain": [
              "'eetois'"
            ],
            "application/vnd.google.colaboratory.intrinsic+json": {
              "type": "string"
            }
          },
          "metadata": {},
          "execution_count": 12
        }
      ]
    },
    {
      "cell_type": "code",
      "source": [
        "dept1[1::2]"
      ],
      "metadata": {
        "colab": {
          "base_uri": "https://localhost:8080/",
          "height": 36
        },
        "id": "PC9liUbjsbMC",
        "outputId": "bf8f1243-ec37-401f-995a-779fd3f88ea1"
      },
      "execution_count": null,
      "outputs": [
        {
          "output_type": "execute_result",
          "data": {
            "text/plain": [
              "'lcrnc'"
            ],
            "application/vnd.google.colaboratory.intrinsic+json": {
              "type": "string"
            }
          },
          "metadata": {},
          "execution_count": 13
        }
      ]
    },
    {
      "cell_type": "markdown",
      "source": [
        "converting"
      ],
      "metadata": {
        "id": "2ZnoKxBCt5vG"
      }
    },
    {
      "cell_type": "code",
      "source": [
        "str1 = 'HellO world'\n",
        "print(str1.upper())\n",
        "print(str1.lower())"
      ],
      "metadata": {
        "colab": {
          "base_uri": "https://localhost:8080/"
        },
        "id": "EjaB_q-Ws-3C",
        "outputId": "fd3187fe-7ae9-4656-f80a-fff8e31434c2"
      },
      "execution_count": null,
      "outputs": [
        {
          "output_type": "stream",
          "name": "stdout",
          "text": [
            "HELLO WORLD\n",
            "hello world\n"
          ]
        }
      ]
    },
    {
      "cell_type": "markdown",
      "source": [
        "replacing"
      ],
      "metadata": {
        "id": "pKiHYTQPujJ5"
      }
    },
    {
      "cell_type": "code",
      "source": [
        "str2 = 'amar cgpa 4.00'\n",
        "str3 = str2.replace('4.00', '3.00')\n",
        "print(str2.replace('4.00', '3.00'))\n",
        "print(str2)"
      ],
      "metadata": {
        "colab": {
          "base_uri": "https://localhost:8080/"
        },
        "id": "JgjDnDYJuBQb",
        "outputId": "a508273d-45a0-426c-ed23-3e68963698a0"
      },
      "execution_count": null,
      "outputs": [
        {
          "output_type": "stream",
          "name": "stdout",
          "text": [
            "amar cgpa 3.00\n",
            "amar cgpa 4.00\n"
          ]
        }
      ]
    },
    {
      "cell_type": "markdown",
      "source": [
        "mojar jinish"
      ],
      "metadata": {
        "id": "UTj2j273uqp8"
      }
    },
    {
      "cell_type": "code",
      "source": [
        "dept = 'electronics and telecommunication'\n",
        "char = 'e' #dekhte chacchi e\n",
        "kotogula_e = dept.count(char)\n",
        "\n",
        "print(f\" '{char}' ase '{kotogula_e} bar' \")"
      ],
      "metadata": {
        "colab": {
          "base_uri": "https://localhost:8080/"
        },
        "id": "6US8OepouqHL",
        "outputId": "62a10f0b-6dd3-4bd4-c62b-9cc75eea7b4a"
      },
      "execution_count": null,
      "outputs": [
        {
          "output_type": "stream",
          "name": "stdout",
          "text": [
            " 'e' ase '4 bar' \n"
          ]
        }
      ]
    },
    {
      "cell_type": "markdown",
      "source": [
        "**Task:** Char ke input hisebe naw."
      ],
      "metadata": {
        "id": "YqwgkuG-0D7X"
      }
    },
    {
      "cell_type": "markdown",
      "source": [
        "**List**"
      ],
      "metadata": {
        "id": "3Ap80VM6wlNO"
      }
    },
    {
      "cell_type": "markdown",
      "source": [
        "list hocche ekta collection.\n",
        "collection of data (data type)\n",
        "\n",
        "\n",
        "* ordered\n",
        "* mutable: modify kora jay\n",
        "* indexing\n",
        "\n"
      ],
      "metadata": {
        "id": "Eyd8F-wrwnuS"
      }
    },
    {
      "cell_type": "code",
      "source": [
        "fruits = [\"apple\", \"banana\", \"cherry\"]\n",
        "\n",
        "fruits[0] = \"grape\"\n",
        "print(fruits)"
      ],
      "metadata": {
        "colab": {
          "base_uri": "https://localhost:8080/"
        },
        "id": "l2A7e4RFufu9",
        "outputId": "1f314e84-beb6-43ca-cee1-038f8684b08c"
      },
      "execution_count": null,
      "outputs": [
        {
          "output_type": "stream",
          "name": "stdout",
          "text": [
            "['grape', 'banana', 'cherry']\n"
          ]
        }
      ]
    },
    {
      "cell_type": "code",
      "source": [
        "fruits[0]"
      ],
      "metadata": {
        "colab": {
          "base_uri": "https://localhost:8080/",
          "height": 36
        },
        "id": "ueXBrle-xZdL",
        "outputId": "60061f73-ae90-4f4b-d7d1-963d5305b900"
      },
      "execution_count": null,
      "outputs": [
        {
          "output_type": "execute_result",
          "data": {
            "text/plain": [
              "'grape'"
            ],
            "application/vnd.google.colaboratory.intrinsic+json": {
              "type": "string"
            }
          },
          "metadata": {},
          "execution_count": 22
        }
      ]
    },
    {
      "cell_type": "code",
      "source": [
        "number = [1,2,3,4,5]\n",
        "number[3]"
      ],
      "metadata": {
        "colab": {
          "base_uri": "https://localhost:8080/"
        },
        "id": "6p3O7PNdxg_6",
        "outputId": "536c7c8d-c72f-4d5a-85ed-ea43d39e0c28"
      },
      "execution_count": null,
      "outputs": [
        {
          "output_type": "execute_result",
          "data": {
            "text/plain": [
              "4"
            ]
          },
          "metadata": {},
          "execution_count": 23
        }
      ]
    },
    {
      "cell_type": "code",
      "source": [
        "number.append(6)  #element add kora (last e)\n",
        "number"
      ],
      "metadata": {
        "colab": {
          "base_uri": "https://localhost:8080/"
        },
        "id": "RLpuEiHFxtgy",
        "outputId": "9f5f567b-51c9-4a4d-8302-00b1f7960c66"
      },
      "execution_count": null,
      "outputs": [
        {
          "output_type": "execute_result",
          "data": {
            "text/plain": [
              "[1, 2, 3, 4, 5, 6, 6]"
            ]
          },
          "metadata": {},
          "execution_count": 25
        }
      ]
    },
    {
      "cell_type": "code",
      "source": [
        "number.remove(3)\n",
        "number"
      ],
      "metadata": {
        "colab": {
          "base_uri": "https://localhost:8080/"
        },
        "id": "0D52lxSux99S",
        "outputId": "d2e55b37-6d0f-4f98-e56b-bc2fceb2ca54"
      },
      "execution_count": null,
      "outputs": [
        {
          "output_type": "execute_result",
          "data": {
            "text/plain": [
              "[1, 2, 4, 5, 6, 6]"
            ]
          },
          "metadata": {},
          "execution_count": 26
        }
      ]
    },
    {
      "cell_type": "markdown",
      "source": [
        "slicing of list"
      ],
      "metadata": {
        "id": "TWov4DfayMA7"
      }
    },
    {
      "cell_type": "code",
      "source": [
        "number1 = [1,2,3,4,5,6,7,8,9,10]\n",
        "number1[0:5]"
      ],
      "metadata": {
        "colab": {
          "base_uri": "https://localhost:8080/"
        },
        "id": "-aBVMNfqyICS",
        "outputId": "f7df4437-a520-47ae-993f-24a2276d9331"
      },
      "execution_count": null,
      "outputs": [
        {
          "output_type": "execute_result",
          "data": {
            "text/plain": [
              "[1, 2, 3, 4, 5]"
            ]
          },
          "metadata": {},
          "execution_count": 28
        }
      ]
    },
    {
      "cell_type": "code",
      "source": [
        "number1[3:8]"
      ],
      "metadata": {
        "colab": {
          "base_uri": "https://localhost:8080/"
        },
        "id": "aPUFlF22ywFK",
        "outputId": "69d4f226-5455-478a-8d03-3296bbefa71a"
      },
      "execution_count": null,
      "outputs": [
        {
          "output_type": "execute_result",
          "data": {
            "text/plain": [
              "[4, 5, 6, 7, 8]"
            ]
          },
          "metadata": {},
          "execution_count": 29
        }
      ]
    },
    {
      "cell_type": "code",
      "source": [
        "#list reverse\n",
        "number = [2,4,6,8]\n",
        "rev_list = number[::-1] #-1 reverse kore\n",
        "rev_list"
      ],
      "metadata": {
        "colab": {
          "base_uri": "https://localhost:8080/"
        },
        "id": "9s5oLwLOzP4D",
        "outputId": "05bcfd66-aa91-4cc0-db98-cce4786fcbe5"
      },
      "execution_count": null,
      "outputs": [
        {
          "output_type": "execute_result",
          "data": {
            "text/plain": [
              "[8, 6, 4, 2]"
            ]
          },
          "metadata": {},
          "execution_count": 32
        }
      ]
    },
    {
      "cell_type": "code",
      "source": [
        "number = [2,4,6,8]\n",
        "print(max(number))\n",
        "print(min(number))"
      ],
      "metadata": {
        "colab": {
          "base_uri": "https://localhost:8080/"
        },
        "id": "dBveNfxOz1Yq",
        "outputId": "9dc17ef3-7ddb-4224-fd23-e4aefcfb896b"
      },
      "execution_count": null,
      "outputs": [
        {
          "output_type": "stream",
          "name": "stdout",
          "text": [
            "8\n",
            "2\n"
          ]
        }
      ]
    },
    {
      "cell_type": "markdown",
      "source": [
        "**Dictionary**\n",
        "\n",
        "* ordered/unordered\n",
        "* mutable (value ke)\n",
        "* keys immutable\n",
        "\n",
        "'a': a mane omuk"
      ],
      "metadata": {
        "id": "ggaF2aJA0hq1"
      }
    },
    {
      "cell_type": "code",
      "source": [
        "student = {\"name\": \"Jarif\", \"age\": 20, \"CGPA\" : 4}\n",
        "print(student[\"name\"]) #dictionary nie tar moddhe key ta bosabo"
      ],
      "metadata": {
        "colab": {
          "base_uri": "https://localhost:8080/"
        },
        "id": "NHnHNZPU0bKD",
        "outputId": "ef28483b-a872-40c5-bd9b-31adf5e3437b"
      },
      "execution_count": null,
      "outputs": [
        {
          "output_type": "stream",
          "name": "stdout",
          "text": [
            "Jarif\n"
          ]
        }
      ]
    },
    {
      "cell_type": "code",
      "source": [
        "student[\"basha\"] = 'Halishohor'\n",
        "print(student)"
      ],
      "metadata": {
        "colab": {
          "base_uri": "https://localhost:8080/"
        },
        "id": "WERYmcnD1sZT",
        "outputId": "f626e5fc-d7f4-478b-cd0b-d2cf9c139512"
      },
      "execution_count": null,
      "outputs": [
        {
          "output_type": "stream",
          "name": "stdout",
          "text": [
            "{'name': 'Jarif', 'age': 20, 'CGPA': 4, 'basha': 'Halishohor'}\n"
          ]
        }
      ]
    },
    {
      "cell_type": "code",
      "source": [
        "student[\"age\"] = 21\n",
        "print(student)"
      ],
      "metadata": {
        "colab": {
          "base_uri": "https://localhost:8080/"
        },
        "id": "3ReGGkDE15ua",
        "outputId": "689320b5-4ec8-42aa-890d-ddb60645e4f4"
      },
      "execution_count": null,
      "outputs": [
        {
          "output_type": "stream",
          "name": "stdout",
          "text": [
            "{'name': 'Jarif', 'age': 21, 'CGPA': 4, 'basha': 'Halishohor'}\n"
          ]
        }
      ]
    },
    {
      "cell_type": "code",
      "source": [
        "student.pop(\"CGPA\")\n",
        "print(student)"
      ],
      "metadata": {
        "colab": {
          "base_uri": "https://localhost:8080/"
        },
        "id": "GEpm2nCy2T1q",
        "outputId": "1cfa8e86-47b8-4c76-9570-d62f9f62d798"
      },
      "execution_count": null,
      "outputs": [
        {
          "output_type": "stream",
          "name": "stdout",
          "text": [
            "{'name': 'Jarif', 'age': 21, 'basha': 'Halishohor'}\n"
          ]
        }
      ]
    },
    {
      "cell_type": "markdown",
      "source": [
        "merge dictionary"
      ],
      "metadata": {
        "id": "kIyWkmyA2p8D"
      }
    },
    {
      "cell_type": "code",
      "source": [
        "dict1 = {\"name\" : 'TT', \"age\" : 16}\n",
        "dict2 = {\"basha\": \"dhaka\"}\n",
        "\n",
        "dict3 = {**dict1, **dict2} #merging\n",
        "print(dict3)"
      ],
      "metadata": {
        "colab": {
          "base_uri": "https://localhost:8080/"
        },
        "id": "u5bJuFjz2hg6",
        "outputId": "019d6fba-952c-4957-d0da-69408a186b9f"
      },
      "execution_count": null,
      "outputs": [
        {
          "output_type": "stream",
          "name": "stdout",
          "text": [
            "{'name': 'TT', 'age': 16, 'basha': 'dhaka'}\n"
          ]
        }
      ]
    },
    {
      "cell_type": "markdown",
      "source": [
        "**Conditional**"
      ],
      "metadata": {
        "id": "rpL7KFF03PHE"
      }
    },
    {
      "cell_type": "code",
      "source": [
        "num = 10\n",
        "\n",
        "if num > 5:\n",
        "  print(\"ei number 5 theke boro\")"
      ],
      "metadata": {
        "colab": {
          "base_uri": "https://localhost:8080/"
        },
        "id": "HfQlIhkP3Ezj",
        "outputId": "77b846ea-02e7-4043-ac61-bd3c70cc9fc9"
      },
      "execution_count": null,
      "outputs": [
        {
          "output_type": "stream",
          "name": "stdout",
          "text": [
            "ei number 5 theke boro\n"
          ]
        }
      ]
    },
    {
      "cell_type": "code",
      "source": [
        "num = 4\n",
        "\n",
        "if num%2 == 0:\n",
        "  print(\"number ta even\")\n",
        "else:\n",
        "  print(\"number ta odd\")"
      ],
      "metadata": {
        "colab": {
          "base_uri": "https://localhost:8080/"
        },
        "id": "LfYta1-O3mmD",
        "outputId": "3703222e-a7c9-4f00-fb71-064cea0fa953"
      },
      "execution_count": null,
      "outputs": [
        {
          "output_type": "stream",
          "name": "stdout",
          "text": [
            "number ta even\n"
          ]
        }
      ]
    },
    {
      "cell_type": "code",
      "source": [
        "#student gradesheet\n",
        "number = int(input())\n",
        "\n",
        "if number >= 80:\n",
        "  print(\"A+\")\n",
        "elif number >= 70:\n",
        "  print(\"A\")\n",
        "elif number >= 50 and number <70:\n",
        "  print(\"B\")\n",
        "elif 30<=number<=50:\n",
        "  print(\"C\")\n",
        "else:\n",
        "  print(\"fail\")\n"
      ],
      "metadata": {
        "colab": {
          "base_uri": "https://localhost:8080/"
        },
        "id": "yqTpwK7133qj",
        "outputId": "c1027d5d-ef63-4676-a061-c005ae97f0f1"
      },
      "execution_count": null,
      "outputs": [
        {
          "output_type": "stream",
          "name": "stdout",
          "text": [
            "43\n",
            "C\n"
          ]
        }
      ]
    },
    {
      "cell_type": "code",
      "source": [
        "#party te jabo ki na\n",
        "age = int(input())\n",
        "\n",
        "party = \"jaite parba\" if age >=18 else \"jaite parba na\"\n",
        "\n",
        "print(party)"
      ],
      "metadata": {
        "colab": {
          "base_uri": "https://localhost:8080/"
        },
        "id": "F2dwwn8f4zdb",
        "outputId": "cdd9b8d3-68c7-4fc0-c922-fd18a2500290"
      },
      "execution_count": null,
      "outputs": [
        {
          "output_type": "stream",
          "name": "stdout",
          "text": [
            "19\n",
            "jaite parba\n"
          ]
        }
      ]
    },
    {
      "cell_type": "markdown",
      "source": [
        "# **Tasks**"
      ],
      "metadata": {
        "id": "uvI0-2E_TIf2"
      }
    },
    {
      "cell_type": "markdown",
      "source": [
        "**List**\n",
        "\n",
        "list.sort() method sorts the list in ascending order\n",
        "- **Task 1:** Make a list of numbers and sort it.\n",
        "- **Task 2:** Make a list of numbers and sort it in descending order (matha khataw)\n",
        "\n",
        "\n",
        "**Strings**\n",
        "\n",
        "- **Task 1:** Write a program to check if a string is a palindrome (reads the same backward).\n",
        "\n",
        "  Example Input: \"madam\"\n",
        "\n",
        "  Example Output: True\n",
        "- **Task 2:** Count the number of vowels and consonants in a given string.\n",
        "\n",
        "  Example Input: \"hello\"\n",
        "\n",
        "  Example Output: Vowels: 2, Consonants: 3\n",
        "\n",
        "  Hint: Use if-else and a string of vowels (aeiou). Also iterate through each character using *for char in text:*\n"
      ],
      "metadata": {
        "id": "8WiZiv0xTKV_"
      }
    },
    {
      "cell_type": "code",
      "source": [
        "# Task1:Make a list of numbers and sort it\n",
        "\n",
        "my_numbers=[8,0,9,87,67,3,56,23]\n",
        "my_numbers.sort()\n",
        "print(my_numbers)"
      ],
      "metadata": {
        "id": "VTF0SdL55zVb",
        "colab": {
          "base_uri": "https://localhost:8080/"
        },
        "outputId": "afe905e7-00fa-4f43-f896-af0de9be05e3"
      },
      "execution_count": 2,
      "outputs": [
        {
          "output_type": "stream",
          "name": "stdout",
          "text": [
            "[0, 3, 8, 9, 23, 56, 67, 87]\n"
          ]
        }
      ]
    },
    {
      "cell_type": "code",
      "source": [
        "#Task2: sort your numbers in descending order\n",
        "\n",
        "my_numbers.sort()\n",
        "descend_num = my_numbers[::-1]\n",
        "print(descend_num)"
      ],
      "metadata": {
        "colab": {
          "base_uri": "https://localhost:8080/"
        },
        "id": "AJh5RwphSzIL",
        "outputId": "a3bba9d1-e6f6-49b0-ebc3-8bddaefe0524"
      },
      "execution_count": 6,
      "outputs": [
        {
          "output_type": "stream",
          "name": "stdout",
          "text": [
            "[87, 67, 56, 23, 9, 8, 3, 0]\n"
          ]
        }
      ]
    },
    {
      "cell_type": "code",
      "source": [
        "#Task1: write a program to check if a string is a palindrome\n",
        "\n",
        "word= \"madam\"\n",
        "test= word==word[::-1]\n",
        "print(test)"
      ],
      "metadata": {
        "colab": {
          "base_uri": "https://localhost:8080/"
        },
        "id": "Z41mMDlyTo5-",
        "outputId": "71a5f0d9-44b6-49a9-c276-624a2ea5c8e2"
      },
      "execution_count": 10,
      "outputs": [
        {
          "output_type": "stream",
          "name": "stdout",
          "text": [
            "True\n"
          ]
        }
      ]
    },
    {
      "cell_type": "code",
      "source": [
        "#task2: count the number of vowels and consonants in a given string\n",
        "\n",
        "my_string= input(\"enter a string: \")\n",
        "vowel=0\n",
        "consonant=0\n",
        "for s in my_string:\n",
        "  if(s=='a'or s=='e'or s=='i' or s=='o'or s=='u' or s=='A' or s=='E' or s=='I' or s=='O' or s=='U'):\n",
        "    vowel=vowel+1\n",
        "  elif('a'<=s<='z'):\n",
        "    consonant=consonant+1\n",
        "  elif('A'<=s<='Z'):\n",
        "    consonant=consonant+1\n",
        "\n",
        "print('vowel number:',vowel)\n",
        "print('consonant number:',consonant)"
      ],
      "metadata": {
        "colab": {
          "base_uri": "https://localhost:8080/"
        },
        "id": "XWi8qwn-Uu6f",
        "outputId": "9b7e10b9-63fb-4d4b-9678-f1bc7dea0a15"
      },
      "execution_count": 15,
      "outputs": [
        {
          "output_type": "stream",
          "name": "stdout",
          "text": [
            "enter a string: shahpOraN\n",
            "vowel number: 3\n",
            "consonant number: 6\n"
          ]
        }
      ]
    }
  ]
}